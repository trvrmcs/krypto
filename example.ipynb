{
 "cells": [
  {
   "cell_type": "code",
   "execution_count": 2,
   "metadata": {},
   "outputs": [],
   "source": [
    "import search\n",
    "import expressions"
   ]
  },
  {
   "cell_type": "code",
   "execution_count": 3,
   "metadata": {},
   "outputs": [
    {
     "name": "stdout",
     "output_type": "stream",
     "text": [
      "( ( ( 7 + 17 ) / 3 ) + ( 13 * 11 ) ) = 151\n",
      "( ( ( 7 + 17 ) / 3 ) + ( 11 * 13 ) ) = 151\n",
      "( ( ( 17 + 7 ) / 3 ) + ( 13 * 11 ) ) = 151\n",
      "( ( ( 17 + 7 ) / 3 ) + ( 11 * 13 ) ) = 151\n",
      "( ( 13 * 11 ) + ( ( 7 + 17 ) / 3 ) ) = 151\n",
      "( ( 13 * 11 ) + ( ( 17 + 7 ) / 3 ) ) = 151\n",
      "( ( 11 * 13 ) + ( ( 7 + 17 ) / 3 ) ) = 151\n",
      "( ( 11 * 13 ) + ( ( 17 + 7 ) / 3 ) ) = 151\n"
     ]
    }
   ],
   "source": [
    "numbers = [13,7,11,17,3]\n",
    "target = 151\n",
    "\n",
    "for e in search.expressions(numbers,target):\n",
    "    s = expressions.repr(e)\n",
    "    v = expressions.evaluate(e)\n",
    "    print(f'{s} = {v}')\n",
    "     "
   ]
  },
  {
   "cell_type": "code",
   "execution_count": null,
   "metadata": {},
   "outputs": [],
   "source": []
  }
 ],
 "metadata": {
  "kernelspec": {
   "display_name": "krypto-qJuATJIx",
   "language": "python",
   "name": "python3"
  },
  "language_info": {
   "codemirror_mode": {
    "name": "ipython",
    "version": 3
   },
   "file_extension": ".py",
   "mimetype": "text/x-python",
   "name": "python",
   "nbconvert_exporter": "python",
   "pygments_lexer": "ipython3",
   "version": "3.12.0"
  }
 },
 "nbformat": 4,
 "nbformat_minor": 2
}
